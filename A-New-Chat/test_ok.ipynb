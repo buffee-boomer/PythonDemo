{
 "cells": [
  {
   "cell_type": "code",
   "execution_count": null,
   "metadata": {},
   "outputs": [],
   "source": [
    "# import os\n",
    "# from langchain.prompts import (\n",
    "#     ChatPromptTemplate,\n",
    "#     MessagesPlaceholder,\n",
    "#     SystemMessagePromptTemplate,\n",
    "#     HumanMessagePromptTemplate,\n",
    "# )     \n",
    "\n",
    "# from langchain_openai import ChatOpenAI\n",
    "# from langchain.chains import LLMChain\n",
    "# from langchain.memory import ConversationBufferMemory\n",
    "# from langchain.embeddings import HuggingFaceEmbeddings\n",
    "\n",
    "# llm = ChatOpenAI(\n",
    "#     temperature=0.95,\n",
    "#     model=\"glm-4\",\n",
    "#     openai_api_key=\"4fc3dafb562d55acb418c7b80d378c1f.jRfKrVS1mQShQTXi\",\n",
    "#     openai_api_base=\"https://open.bigmodel.cn/api/paas/v4/\"\n",
    "# )"
   ]
  },
  {
   "cell_type": "code",
   "execution_count": 1,
   "metadata": {},
   "outputs": [
    {
     "name": "stderr",
     "output_type": "stream",
     "text": [
      "d:\\miniconda3\\Lib\\site-packages\\tqdm\\auto.py:21: TqdmWarning: IProgress not found. Please update jupyter and ipywidgets. See https://ipywidgets.readthedocs.io/en/stable/user_install.html\n",
      "  from .autonotebook import tqdm as notebook_tqdm\n"
     ]
    },
    {
     "name": "stdout",
     "output_type": "stream",
     "text": [
      "None\n"
     ]
    }
   ],
   "source": [
    "# from langchain.embeddings import HuggingFaceEmbeddings\n",
    "\n",
    "import sentence_transformers\n",
    "\n",
    "\n",
    "from langchain_huggingface import HuggingFaceEmbeddings\n",
    "\n",
    "embeddings = HuggingFaceEmbeddings(model_name=\"sentence-transformers/all-MiniLM-L6-v2\", show_progress=True)\n",
    "print(embeddings.cache_folder)"
   ]
  },
  {
   "cell_type": "code",
   "execution_count": 2,
   "metadata": {},
   "outputs": [
    {
     "name": "stdout",
     "output_type": "stream",
     "text": [
      "None\n"
     ]
    }
   ],
   "source": [
    "embeddings = HuggingFaceEmbeddings(model_name=\"sentence-transformers/all-MiniLM-L6-v2\")\n",
    "print(embeddings.cache_folder)"
   ]
  },
  {
   "cell_type": "code",
   "execution_count": null,
   "metadata": {},
   "outputs": [],
   "source": [
    "# pip install -U sentence-transformers -i https://mirrors.aliyun.com/pypi/simple/ --timeout=500"
   ]
  }
 ],
 "metadata": {
  "kernelspec": {
   "display_name": "xust_chat",
   "language": "python",
   "name": "python3"
  },
  "language_info": {
   "codemirror_mode": {
    "name": "ipython",
    "version": 3
   },
   "file_extension": ".py",
   "mimetype": "text/x-python",
   "name": "python",
   "nbconvert_exporter": "python",
   "pygments_lexer": "ipython3",
   "version": "3.12.7"
  }
 },
 "nbformat": 4,
 "nbformat_minor": 2
}
